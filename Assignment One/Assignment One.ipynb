{
 "cells": [
  {
   "cell_type": "markdown",
   "metadata": {},
   "source": [
    "# Big Bio Data Analysis: Assignement One\n",
    "\n",
    "## Assignment Due: 13-Nov-2021\n",
    "\n",
    "## Please Read The Instructions Below:\n",
    "\n",
    "- This assignment is to be done individually.\n",
    "- Please state your name clearly at the top of your notebook in markdown.\n",
    "- Please state your registration number clearly at the top of your notebook in markdown.\n",
    "- No cheating/duplicating of work will be tolerated.\n",
    "- Please leave comments to capture the ideas you are trying to implement, failure to do so will lead to loss of marks.\n",
    "- This assignment is marked out of 20 and contributes to your final result in this course.\n",
    "\n",
    "## Dataset:\n",
    "- For this assignment we shall use the **Heart Disease** dataset which can be found in the Data Folder.\n",
    "- Please use the appropriate data for this assignment."
   ]
  },
  {
   "cell_type": "markdown",
   "metadata": {},
   "source": [
    "# Assignment Instruction:\n",
    "\n",
    "Using the provided dataset, you are going to accomplish the task of taking it through the steps of machine learning as discussed in class. The steps to be looked at are stated below.\n",
    "\n",
    "    - Data Cleansing: Clean your data appropriately\n",
    "    - Data Preprocessing: Make the necessary transformations that you think are useful\n",
    "    - EDA (Exploratory Data Analysis): Plot visuals to explain your investigations (all visuals should be done in seaborn library)\n",
    "    - Creating Training/Validation Datasets: split your data into test and train: test data should be 25% of the total data.\n",
    "    - Algorithm Selection: sample at least 8 algorithms of your own choice in this assignment and make appropriate comparisons.\n",
    "    - Model Training: Train a base model from your final choice of algorithm\n",
    "    - Model Testing: Test the model on your test data.\n",
    "    - Communicate your findings."
   ]
  },
  {
   "cell_type": "markdown",
   "metadata": {},
   "source": [
    "### Please leave  your details below and change the name of this file to your own name: ie instead of Assignment One.ipyn it can be: \n",
    "```\n",
    "Assignment One <your name>.ipynb\n",
    "\n",
    "```\n",
    "## Name of Student: \n",
    "## Registration Number:"
   ]
  },
  {
   "cell_type": "markdown",
   "metadata": {},
   "source": [
    "#insert your code here below"
   ]
  },
  {
   "cell_type": "markdown",
   "metadata": {},
   "source": []
  }
 ],
 "metadata": {
  "language_info": {
   "name": "python"
  },
  "orig_nbformat": 4
 },
 "nbformat": 4,
 "nbformat_minor": 2
}
